{
 "cells": [
  {
   "cell_type": "markdown",
   "id": "57b09824",
   "metadata": {},
   "source": [
    "# Additional basic string exercises\n",
    "[Google's Python Class](http://code.google.com/edu/languages/google-python-class/)\n"
   ]
  },
  {
   "cell_type": "markdown",
   "id": "edce353e",
   "metadata": {},
   "source": [
    "## D. verbing\n",
    "Given a string, if its length is at least 3,\n",
    "add 'ing' to its end.\n",
    "Unless it already ends in 'ing', in which case\n",
    "add 'ly' instead.\n",
    "If the string length is less than 3, leave it unchanged.\n",
    "Return the resulting string."
   ]
  },
  {
   "cell_type": "code",
   "execution_count": 3,
   "id": "14d19c99",
   "metadata": {},
   "outputs": [],
   "source": [
    "def verbing(s):\n",
    "    if len(s)<3:\n",
    "        return s\n",
    "    if s.endswith('ing'):\n",
    "        return s + 'ly'\n",
    "    return s + 'ing'\n"
   ]
  },
  {
   "cell_type": "code",
   "execution_count": 5,
   "id": "6c8575b4",
   "metadata": {},
   "outputs": [
    {
     "data": {
      "text/plain": [
       "'ni'"
      ]
     },
     "execution_count": 5,
     "metadata": {},
     "output_type": "execute_result"
    }
   ],
   "source": [
    "verbing('na')"
   ]
  },
  {
   "cell_type": "code",
   "execution_count": 9,
   "id": "b6944313",
   "metadata": {},
   "outputs": [
    {
     "data": {
      "text/plain": [
       "'naaing'"
      ]
     },
     "execution_count": 9,
     "metadata": {},
     "output_type": "execute_result"
    }
   ],
   "source": [
    "verbing('naa')"
   ]
  },
  {
   "cell_type": "code",
   "execution_count": 10,
   "id": "2034e054",
   "metadata": {},
   "outputs": [
    {
     "data": {
      "text/plain": [
       "'ningly'"
      ]
     },
     "execution_count": 10,
     "metadata": {},
     "output_type": "execute_result"
    }
   ],
   "source": [
    "verbing('ning')"
   ]
  },
  {
   "cell_type": "markdown",
   "id": "532bbbc4",
   "metadata": {},
   "source": [
    "## E. not_bad\n",
    "Given a string, find the first appearance of the\n",
    "substring 'not' and 'bad'. If the 'bad' follows\n",
    "the 'not', replace the whole 'not'...'bad' substring\n",
    "with 'good'.\n",
    "Return the resulting string.\n",
    "\n",
    "So 'This dinner is not that bad!' yields:\n",
    "This dinner is good!"
   ]
  },
  {
   "cell_type": "code",
   "execution_count": 25,
   "id": "8bedd13c",
   "metadata": {},
   "outputs": [],
   "source": [
    "def not_bad(s):\n",
    "    not_pos  = s.find('not')\n",
    "    bad_pos = s.find('bad')\n",
    "    \n",
    "    if(not_pos == -1 or bad_pos == -1):\n",
    "        return s\n",
    "    \n",
    "    if(not_pos < bad_pos):\n",
    "        return s[:not_pos] + 'good' + s[(bad_pos + 3):]\n",
    "    \n",
    "    return s"
   ]
  },
  {
   "cell_type": "code",
   "execution_count": 28,
   "id": "1a454e0c",
   "metadata": {},
   "outputs": [
    {
     "data": {
      "text/plain": [
       "'This dinner is good!'"
      ]
     },
     "execution_count": 28,
     "metadata": {},
     "output_type": "execute_result"
    }
   ],
   "source": [
    "not_bad('This dinner is not that bad!')"
   ]
  },
  {
   "cell_type": "markdown",
   "id": "aa28242c",
   "metadata": {},
   "source": [
    "## F. front_back\n",
    "Consider dividing a string into two halves.\n",
    "If the length is even, the front and back halves are the same length.\n",
    "If the length is odd, we'll say that the extra char goes in the front half.\n",
    "e.g. 'abcde', the front half is 'abc', the back half 'de'.\n",
    "Given 2 strings, a and b, return a string of the form\n",
    " a-front + b-front + a-back + b-back"
   ]
  },
  {
   "cell_type": "code",
   "execution_count": 32,
   "id": "417ee5b6",
   "metadata": {},
   "outputs": [],
   "source": [
    "import math\n",
    "\n",
    "def front_back(a, b):\n",
    "    a_half = math.ceil(len(a)/2)\n",
    "    b_half = math.ceil(len(b)/2)\n",
    "    \n",
    "    return a[:a_half] + b[:b_half] + a[a_half:] + b[b_half:]\n"
   ]
  },
  {
   "cell_type": "code",
   "execution_count": 34,
   "id": "38c81724",
   "metadata": {},
   "outputs": [
    {
     "data": {
      "text/plain": [
       "'KitDontenut'"
      ]
     },
     "execution_count": 34,
     "metadata": {},
     "output_type": "execute_result"
    }
   ],
   "source": [
    "front_back('Kitten', 'Donut')"
   ]
  },
  {
   "cell_type": "code",
   "execution_count": 31,
   "id": "a01e1178",
   "metadata": {},
   "outputs": [
    {
     "name": "stdout",
     "output_type": "stream",
     "text": [
      "verbing\n",
      " OK  got: 'hailing' expected: 'hailing'\n",
      " OK  got: 'swimingly' expected: 'swimingly'\n",
      " OK  got: 'do' expected: 'do'\n",
      "\n",
      "not_bad\n",
      " OK  got: 'This movie is good' expected: 'This movie is good'\n",
      " OK  got: 'This dinner is good!' expected: 'This dinner is good!'\n",
      " OK  got: 'This tea is not hot' expected: 'This tea is not hot'\n",
      " OK  got: \"It's bad yet not\" expected: \"It's bad yet not\"\n",
      "\n",
      "front_back\n",
      "  X  got: None expected: 'abxcdy'\n",
      "  X  got: None expected: 'abcxydez'\n",
      "  X  got: None expected: 'KitDontenut'\n"
     ]
    }
   ],
   "source": [
    "\n",
    "\n",
    "# Simple provided test() function used in main() to print\n",
    "# what each function returns vs. what it's supposed to return.\n",
    "def test(got, expected):\n",
    "    if got == expected:\n",
    "        prefix = ' OK '\n",
    "    else:\n",
    "        prefix = '  X '\n",
    "    print('%s got: %s expected: %s' % (prefix, repr(got), repr(expected)))\n",
    "\n",
    "\n",
    "# main() calls the above functions with interesting inputs,\n",
    "# using the above test() to check if the result is correct or not.\n",
    "def main():\n",
    "    print ('verbing')\n",
    "    test(verbing('hail'), 'hailing')\n",
    "    test(verbing('swiming'), 'swimingly')\n",
    "    test(verbing('do'), 'do')\n",
    "\n",
    "    print()\n",
    "    print('not_bad')\n",
    "    test(not_bad('This movie is not so bad'), 'This movie is good')\n",
    "    test(not_bad('This dinner is not that bad!'), 'This dinner is good!')\n",
    "    test(not_bad('This tea is not hot'), 'This tea is not hot')\n",
    "    test(not_bad(\"It's bad yet not\"), \"It's bad yet not\")\n",
    "\n",
    "    print()\n",
    "    print('front_back')\n",
    "    test(front_back('abcd', 'xy'), 'abxcdy')\n",
    "    test(front_back('abcde', 'xyz'), 'abcxydez')\n",
    "    test(front_back('Kitten', 'Donut'), 'KitDontenut')\n",
    "\n",
    "if __name__ == '__main__':\n",
    "    main()"
   ]
  },
  {
   "cell_type": "code",
   "execution_count": null,
   "id": "4d598963",
   "metadata": {},
   "outputs": [],
   "source": []
  }
 ],
 "metadata": {
  "kernelspec": {
   "display_name": "Python 3",
   "language": "python",
   "name": "python3"
  },
  "language_info": {
   "codemirror_mode": {
    "name": "ipython",
    "version": 3
   },
   "file_extension": ".py",
   "mimetype": "text/x-python",
   "name": "python",
   "nbconvert_exporter": "python",
   "pygments_lexer": "ipython3",
   "version": "3.8.8"
  }
 },
 "nbformat": 4,
 "nbformat_minor": 5
}
