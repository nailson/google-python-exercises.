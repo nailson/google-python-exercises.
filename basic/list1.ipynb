{
 "cells": [
  {
   "cell_type": "markdown",
   "id": "be91e227",
   "metadata": {},
   "source": [
    "# Basic list exercises\n",
    " Fill in the code for the functions below. main() is already set up\n",
    " to call the functions with a few different inputs,\n",
    " printing 'OK' when each function is correct.\n",
    " The starter code for each function includes a 'return'\n",
    " which is just a placeholder for your code.\n",
    " It's ok if you do not complete all the functions, and there\n",
    " are some additional functions to try in list2.py.\n"
   ]
  },
  {
   "cell_type": "markdown",
   "id": "4c1f1187",
   "metadata": {},
   "source": [
    "## A. match_ends\n",
    "Given a list of strings, return the count of the number of\n",
    "strings where the string length is 2 or more and the first\n",
    "and last chars of the string are the same.\n",
    "Note: python does not have a ++ operator, but += works."
   ]
  },
  {
   "cell_type": "code",
   "execution_count": 4,
   "id": "aa0a6ada",
   "metadata": {},
   "outputs": [],
   "source": [
    "def match_ends(words):\n",
    "    word_count = 0\n",
    "    for word in words:\n",
    "        if len(word) >= 2 and word[0] == word[-1]:\n",
    "            word_count += 1\n",
    "    return word_count"
   ]
  },
  {
   "cell_type": "code",
   "execution_count": 5,
   "id": "6aa0f1d7",
   "metadata": {},
   "outputs": [
    {
     "data": {
      "text/plain": [
       "3"
      ]
     },
     "execution_count": 5,
     "metadata": {},
     "output_type": "execute_result"
    }
   ],
   "source": [
    "match_ends(['aba', 'xyz', 'aa', 'x', 'bbb'])"
   ]
  },
  {
   "cell_type": "markdown",
   "id": "c5fb95b0",
   "metadata": {},
   "source": [
    "## B. front_x\n",
    "Given a list of strings, return a list with the strings\n",
    "in sorted order, except group all the strings that begin with 'x' first.\n",
    "e.g. \\['mix', 'xyz', 'apple', 'xanadu', 'aardvark'\\] yields\n",
    "\\['xanadu', 'xyz', 'aardvark', 'apple', 'mix'\\]\n",
    "\n",
    "Hint: this can be done by making 2 lists and sorting each of them\n",
    "before combining them."
   ]
  },
  {
   "cell_type": "code",
   "execution_count": 12,
   "id": "3ac5b441",
   "metadata": {},
   "outputs": [],
   "source": [
    "\n",
    "def front_x(words):\n",
    "    x_list = []\n",
    "    else_list = []\n",
    "    for word in words:\n",
    "        if word.startswith('x'):\n",
    "            x_list.append(word)\n",
    "        else: else_list.append(word)\n",
    "    x_list.sort()\n",
    "    else_list.sort()\n",
    "    return x_list + else_list\n",
    "\n",
    "\n"
   ]
  },
  {
   "cell_type": "code",
   "execution_count": 13,
   "id": "41b71c74",
   "metadata": {},
   "outputs": [
    {
     "data": {
      "text/plain": [
       "['xanadu', 'xyz', 'aardvark', 'apple', 'mix']"
      ]
     },
     "execution_count": 13,
     "metadata": {},
     "output_type": "execute_result"
    }
   ],
   "source": [
    "front_x(['mix', 'xyz', 'apple', 'xanadu', 'aardvark'])"
   ]
  },
  {
   "cell_type": "markdown",
   "id": "2e934d08",
   "metadata": {},
   "source": [
    "## C. sort_last\n",
    " Given a list of non-empty tuples, return a list sorted in increasing\n",
    " order by the last element in each tuple.\n",
    " \n",
    " e.g. \\[(1, 7), (1, 3), (3, 4, 5), (2, 2)\\] yields\n",
    "\\[(2, 2), (1, 3), (3, 4, 5), (1, 7)\\]\n",
    "\n",
    " Hint: use a custom key= function to extract the last element form each tuple."
   ]
  },
  {
   "cell_type": "code",
   "execution_count": 17,
   "id": "aaa15412",
   "metadata": {},
   "outputs": [
    {
     "data": {
      "text/plain": [
       "3"
      ]
     },
     "execution_count": 17,
     "metadata": {},
     "output_type": "execute_result"
    }
   ],
   "source": [
    "(91,2,3)[-1]"
   ]
  },
  {
   "cell_type": "code",
   "execution_count": 18,
   "id": "271570a8",
   "metadata": {},
   "outputs": [],
   "source": [
    "def order_func(e):\n",
    "    return e[-1]\n",
    "\n",
    "def sort_last(tuples):\n",
    "    tuples.sort(key=order_func)\n",
    "    return tuples\n",
    "        "
   ]
  },
  {
   "cell_type": "code",
   "execution_count": 19,
   "id": "8b1849ad",
   "metadata": {},
   "outputs": [
    {
     "data": {
      "text/plain": [
       "[(2, 2), (1, 3), (3, 4, 5), (1, 7)]"
      ]
     },
     "execution_count": 19,
     "metadata": {},
     "output_type": "execute_result"
    }
   ],
   "source": [
    " sort_last([(1, 7), (1, 3), (3, 4, 5), (2, 2)])"
   ]
  },
  {
   "cell_type": "code",
   "execution_count": 22,
   "id": "3647e14a",
   "metadata": {},
   "outputs": [
    {
     "name": "stdout",
     "output_type": "stream",
     "text": [
      "match_ends\n",
      " OK  got: 3 expected: 3\n",
      " OK  got: 2 expected: 2\n",
      " OK  got: 1 expected: 1\n",
      "\n",
      "front_x\n",
      " OK  got: ['xaa', 'xzz', 'axx', 'bbb', 'ccc'] expected: ['xaa', 'xzz', 'axx', 'bbb', 'ccc']\n",
      " OK  got: ['xaa', 'xcc', 'aaa', 'bbb', 'ccc'] expected: ['xaa', 'xcc', 'aaa', 'bbb', 'ccc']\n",
      " OK  got: ['xanadu', 'xyz', 'aardvark', 'apple', 'mix'] expected: ['xanadu', 'xyz', 'aardvark', 'apple', 'mix']\n",
      "\n",
      "sort_last\n",
      " OK  got: [(2, 1), (3, 2), (1, 3)] expected: [(2, 1), (3, 2), (1, 3)]\n",
      " OK  got: [(3, 1), (1, 2), (2, 3)] expected: [(3, 1), (1, 2), (2, 3)]\n",
      " OK  got: [(2, 2), (1, 3), (3, 4, 5), (1, 7)] expected: [(2, 2), (1, 3), (3, 4, 5), (1, 7)]\n"
     ]
    }
   ],
   "source": [
    "\n",
    "# Simple provided test() function used in main() to print\n",
    "# what each function returns vs. what it's supposed to return.\n",
    "def test(got, expected):\n",
    "    if got == expected:\n",
    "        prefix = ' OK '\n",
    "    else:\n",
    "        prefix = '  X '\n",
    "    print ('%s got: %s expected: %s' % (prefix, repr(got), repr(expected)))\n",
    "\n",
    "\n",
    "# Calls the above functions with interesting inputs.\n",
    "def main():\n",
    "    print('match_ends')\n",
    "    test(match_ends(['aba', 'xyz', 'aa', 'x', 'bbb']), 3)\n",
    "    test(match_ends(['', 'x', 'xy', 'xyx', 'xx']), 2)\n",
    "    test(match_ends(['aaa', 'be', 'abc', 'hello']), 1)\n",
    "\n",
    "    print()\n",
    "    print('front_x')\n",
    "    test(front_x(['bbb', 'ccc', 'axx', 'xzz', 'xaa']),\n",
    "         ['xaa', 'xzz', 'axx', 'bbb', 'ccc'])\n",
    "    test(front_x(['ccc', 'bbb', 'aaa', 'xcc', 'xaa']),\n",
    "         ['xaa', 'xcc', 'aaa', 'bbb', 'ccc'])\n",
    "    test(front_x(['mix', 'xyz', 'apple', 'xanadu', 'aardvark']),\n",
    "         ['xanadu', 'xyz', 'aardvark', 'apple', 'mix'])\n",
    "\n",
    "       \n",
    "    print()\n",
    "    print('sort_last')\n",
    "    test(sort_last([(1, 3), (3, 2), (2, 1)]),\n",
    "         [(2, 1), (3, 2), (1, 3)])\n",
    "    test(sort_last([(2, 3), (1, 2), (3, 1)]),\n",
    "         [(3, 1), (1, 2), (2, 3)])\n",
    "    test(sort_last([(1, 7), (1, 3), (3, 4, 5), (2, 2)]),\n",
    "         [(2, 2), (1, 3), (3, 4, 5), (1, 7)])\n",
    "\n",
    "main()"
   ]
  },
  {
   "cell_type": "code",
   "execution_count": null,
   "id": "e0990616",
   "metadata": {},
   "outputs": [],
   "source": []
  }
 ],
 "metadata": {
  "kernelspec": {
   "display_name": "Python 3",
   "language": "python",
   "name": "python3"
  },
  "language_info": {
   "codemirror_mode": {
    "name": "ipython",
    "version": 3
   },
   "file_extension": ".py",
   "mimetype": "text/x-python",
   "name": "python",
   "nbconvert_exporter": "python",
   "pygments_lexer": "ipython3",
   "version": "3.8.8"
  }
 },
 "nbformat": 4,
 "nbformat_minor": 5
}
